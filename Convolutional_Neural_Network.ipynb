{
  "nbformat": 4,
  "nbformat_minor": 0,
  "metadata": {
    "colab": {
      "provenance": [],
      "authorship_tag": "ABX9TyPQLuzzpuN/+46A/zL3/m9d",
      "include_colab_link": true
    },
    "kernelspec": {
      "name": "python3",
      "display_name": "Python 3"
    },
    "language_info": {
      "name": "python"
    }
  },
  "cells": [
    {
      "cell_type": "markdown",
      "metadata": {
        "id": "view-in-github",
        "colab_type": "text"
      },
      "source": [
        "<a href=\"https://colab.research.google.com/github/AsmithaBhavya06/Projects/blob/main/Convolutional_Neural_Network.ipynb\" target=\"_parent\"><img src=\"https://colab.research.google.com/assets/colab-badge.svg\" alt=\"Open In Colab\"/></a>"
      ]
    },
    {
      "cell_type": "code",
      "execution_count": 1,
      "metadata": {
        "colab": {
          "base_uri": "https://localhost:8080/"
        },
        "id": "Yh_fybm15rJK",
        "outputId": "dee2c5af-4db8-4730-95ee-c5531eb0b5fc"
      },
      "outputs": [
        {
          "output_type": "stream",
          "name": "stdout",
          "text": [
            "Input Shape (with channels): (5, 5, 1)\n",
            "\n",
            "Input Matrix:\n",
            "[[1 1 1 0 0]\n",
            " [0 1 1 1 0]\n",
            " [0 0 1 1 1]\n",
            " [0 0 1 1 0]\n",
            " [0 1 1 0 0]]\n",
            "\n",
            "Filter Matrix:\n",
            "[[1 0 1]\n",
            " [0 1 0]\n",
            " [1 0 1]]\n",
            "\n",
            "Pad Size:  1\n"
          ]
        },
        {
          "output_type": "execute_result",
          "data": {
            "text/plain": [
              "array([4., 0., 4., 4.])"
            ]
          },
          "metadata": {},
          "execution_count": 1
        }
      ],
      "source": [
        "import numpy as np\n",
        "class CNN:\n",
        "    def __init__(self):\n",
        "        pass\n",
        "    def convLayer(self, input_shape, channels, strides, padding, filter_size):\n",
        "        pass\n",
        "    def maxPooling(self, input_matrix):\n",
        "        pass\n",
        "    def flatten(self, input_matrix):\n",
        "        pass\n",
        "    def dropout(self, input_matrix, dropout_rate = 0):\n",
        "        pass\n",
        "    def convLayer(self, input_shape, channels, strides, padding, filter_size):\n",
        "        height, width = input_shape\n",
        "        input_shape_with_channels = (height, width, channels)\n",
        "        print(\"Input Shape (with channels):\", input_shape_with_channels)\n",
        "        # for random input and filter matrix\n",
        "        input_matrix = np.random.randint(0, 10, size=input_shape_with_channels)\n",
        "        filter_matrix = np.random.randint(0, 5, size=filter_size)\n",
        "        input_matrix = np.array([\n",
        "                    [1, 1, 1, 0, 0],\n",
        "                    [0, 1, 1, 1, 0],\n",
        "                    [0, 0, 1, 1, 1],\n",
        "                    [0, 0, 1, 1, 0],\n",
        "                    [0, 1, 1, 0, 0]\n",
        "        ])\n",
        "        filter_matrix = np.array([\n",
        "                    [1, 0, 1],\n",
        "                    [0, 1, 0],\n",
        "                    [1, 0, 1]\n",
        "        ])\n",
        "        print(\"\\nInput Matrix:\")\n",
        "        print(input_matrix)\n",
        "        print(\"\\nFilter Matrix:\")\n",
        "        print(filter_matrix)\n",
        "        padding.lower()\n",
        "        padSize = 0\n",
        "        if padding == 'same':\n",
        "            # Calculate padding needed for each dimension\n",
        "            pad_height = ((height - 1) * strides[0] + filter_size[0] - height) // 2\n",
        "            pad_width = ((width - 1) * strides[1] + filter_size[1] - width) // 2\n",
        "            # Apply padding to the input matrix\n",
        "            input_matrix = np.pad(input_matrix, ((pad_height, pad_height), (pad_width, pad_width),\n",
        "                                                (0, 0)), mode='constant')\n",
        "\n",
        "            # Adjust height and width to consider the padding\n",
        "            height += 2 * pad_height\n",
        "            width += 2 * pad_width\n",
        "        elif padding == 'valid':\n",
        "            padSize = filter_size[0] // 2\n",
        "            print(\"\\nPad Size: \", padSize)\n",
        "        else:\n",
        "            return \"Invalid Padding!!\"\n",
        "        # output dimension\n",
        "        conv_height = (height - filter_size[0]) // strides[0] + 1\n",
        "        conv_width = (width - filter_size[1]) // strides[1] + 1\n",
        "        output_matrix = np.zeros((conv_height, conv_width))\n",
        "        # Convolution Operation\n",
        "        for i in range(0, height - filter_size[0] + 1, strides[0]):\n",
        "            for j in range(0, width - filter_size[1] + 1, strides[1]):\n",
        "                receptive_field = input_matrix[i:i + filter_size[0], j:j + filter_size[1]]\n",
        "                output_matrix[i // strides[0], j // strides[1]] = np.sum(receptive_field * filter_matrix)\n",
        "        return output_matrix\n",
        "    def maxPooling(self, input_matrix, pool_size, strides_pooling):\n",
        "        pool_height, pool_width = pool_size\n",
        "        stride_height, stride_width = strides_pooling\n",
        "        pooled_height = (input_matrix.shape[0] - pool_height) // stride_height + 1\n",
        "        pooled_width = (input_matrix.shape[1] - pool_width) // stride_width + 1\n",
        "        pooled_matrix = np.zeros((pooled_height, pooled_width))\n",
        "        for i in range(pooled_height):\n",
        "            for j in range(pooled_width):\n",
        "                patch = input_matrix[i * stride_height: i * stride_height + pool_height,\n",
        "                                     j * stride_width: j * stride_width + pool_width]\n",
        "                pooled_matrix[i, j] = np.max(patch)\n",
        "        return pooled_matrix\n",
        "    def flatten(self, input_matrix):\n",
        "        return input_matrix.flatten()\n",
        "    def dropout(self, input_matrix, dropout_rate = 0):\n",
        "        dropout_mask = np.random.binomial(1, 1 - dropout_rate, size=input_matrix.shape)\n",
        "        return input_matrix * dropout_mask\n",
        "input_shape = (5, 5)\n",
        "channels = 1\n",
        "strides = (1, 1)\n",
        "padding = 'valid'\n",
        "filter_size = (3, 3)\n",
        "cnn_model = CNN()\n",
        "conv1 = cnn_model.convLayer(input_shape, channels, strides, padding, filter_size)\n",
        "conv1\n",
        "pool_size = (2, 2)\n",
        "strides_pooling = (1, 1)\n",
        "maxPool = cnn_model.maxPooling(conv1, pool_size, strides_pooling)\n",
        "maxPool\n",
        "flattened_output = cnn_model.flatten(maxPool)\n",
        "flattened_output\n",
        "dropout_output = cnn_model.dropout(flattened_output, 0.3)\n",
        "dropout_output"
      ]
    }
  ]
}