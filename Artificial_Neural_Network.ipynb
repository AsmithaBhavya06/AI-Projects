{
  "nbformat": 4,
  "nbformat_minor": 0,
  "metadata": {
    "colab": {
      "provenance": [],
      "authorship_tag": "ABX9TyNoYEMSCZHFgP8N0Onarg1h",
      "include_colab_link": true
    },
    "kernelspec": {
      "name": "python3",
      "display_name": "Python 3"
    },
    "language_info": {
      "name": "python"
    }
  },
  "cells": [
    {
      "cell_type": "markdown",
      "metadata": {
        "id": "view-in-github",
        "colab_type": "text"
      },
      "source": [
        "<a href=\"https://colab.research.google.com/github/AsmithaBhavya06/Projects/blob/main/Artificial_Neural_Network.ipynb\" target=\"_parent\"><img src=\"https://colab.research.google.com/assets/colab-badge.svg\" alt=\"Open In Colab\"/></a>"
      ]
    },
    {
      "cell_type": "code",
      "execution_count": 1,
      "metadata": {
        "colab": {
          "base_uri": "https://localhost:8080/"
        },
        "id": "u2pMmqaK5K35",
        "outputId": "d76d1fdd-b658-481d-eeb8-5c48037aa381"
      },
      "outputs": [
        {
          "output_type": "stream",
          "name": "stdout",
          "text": [
            "Final output after training:\n",
            "[[0.05990788]\n",
            " [0.66293873]\n",
            " [0.66295926]\n",
            " [0.6675519 ]]\n"
          ]
        }
      ],
      "source": [
        "import numpy as np\n",
        "def sigmoid(x):\n",
        "    return 1 / (1 + np.exp(-x))\n",
        "def sigmoid_derivative(x):\n",
        "    return x * (1 - x)\n",
        "input_layer_size = 2\n",
        "hidden_layer_size = 1\n",
        "output_layer_size = 1\n",
        "np.random.seed(0)\n",
        "weights_input_hidden = np.random.randn(input_layer_size, hidden_layer_size)\n",
        "biases_hidden = np.random.randn(hidden_layer_size)\n",
        "weights_hidden_output = np.random.randn(hidden_layer_size, output_layer_size)\n",
        "biases_output = np.random.randn(output_layer_size)\n",
        "X = np.array([[0, 0], [0, 1], [1, 0], [1, 1]])\n",
        "y = np.array([[0], [1], [1], [0]])\n",
        "epochs = 10000\n",
        "learning_rate = 0.1\n",
        "for epoch in range(epochs):\n",
        "    # Forward pass\n",
        "    hidden_layer_activation = np.dot(X, weights_input_hidden) + biases_hidden\n",
        "    hidden_layer_output = sigmoid(hidden_layer_activation)\n",
        "    output_layer_activation = np.dot(hidden_layer_output, weights_hidden_output) + biases_output\n",
        "    output = sigmoid(output_layer_activation)\n",
        "    # Backward pass\n",
        "    error = y - output\n",
        "    output_gradient = sigmoid_derivative(output)\n",
        "    output_error = error * output_gradient\n",
        "    hidden_layer_error = output_error.dot(weights_hidden_output.T)\n",
        "    hidden_layer_gradient = sigmoid_derivative(hidden_layer_output)\n",
        "    hidden_layer_error_term = hidden_layer_error * hidden_layer_gradient\n",
        "    # Update weights and biases\n",
        "    weights_hidden_output += hidden_layer_output.T.dot(output_error) * learning_rate\n",
        "    biases_output += np.sum(output_error) * learning_rate\n",
        "    weights_input_hidden += X.T.dot(hidden_layer_error_term) * learning_rate\n",
        "    biases_hidden += np.sum(hidden_layer_error_term) * learning_rate\n",
        "# Print the final output\n",
        "print(\"Final output after training:\")\n",
        "print(output)"
      ]
    }
  ]
}