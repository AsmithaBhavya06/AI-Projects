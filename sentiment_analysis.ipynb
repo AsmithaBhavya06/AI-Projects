{
  "nbformat": 4,
  "nbformat_minor": 0,
  "metadata": {
    "colab": {
      "provenance": [],
      "authorship_tag": "ABX9TyOHdN2+vSPvnY49BCMIx2dF",
      "include_colab_link": true
    },
    "kernelspec": {
      "name": "python3",
      "display_name": "Python 3"
    },
    "language_info": {
      "name": "python"
    }
  },
  "cells": [
    {
      "cell_type": "markdown",
      "metadata": {
        "id": "view-in-github",
        "colab_type": "text"
      },
      "source": [
        "<a href=\"https://colab.research.google.com/github/AsmithaBhavya06/Projects/blob/main/sentiment_analysis.ipynb\" target=\"_parent\"><img src=\"https://colab.research.google.com/assets/colab-badge.svg\" alt=\"Open In Colab\"/></a>"
      ]
    },
    {
      "cell_type": "code",
      "source": [
        "import nltk\n",
        "from nltk.corpus import stopwords\n",
        "from nltk.tokenize import word_tokenize\n",
        "from nltk.stem import WordNetLemmatizer\n",
        "from sklearn.feature_extraction.text import TfidfVectorizer\n",
        "from sklearn.svm import LinearSVC\n",
        "from sklearn.metrics import accuracy_score\n",
        "\n",
        "# Downloading necessary NLTK resources\n",
        "nltk.download('stopwords')\n",
        "nltk.download('punkt')\n",
        "nltk.download('wordnet')\n",
        "\n",
        "# Reading the sample data from file\n",
        "sample_data_path ='/content/IMDB Dataset.csv'\n",
        "\n",
        "encodings = ['utf-8', 'latin-1', 'ISO-8859-1']\n",
        "\n",
        "sample_data = []\n",
        "for encoding in encodings:\n",
        "    try:\n",
        "        with open(sample_data_path, 'r', encoding=encoding) as file:\n",
        "            for line in file:\n",
        "                line = line.strip()\n",
        "                if line:\n",
        "                    line_parts = line.split('\\t')\n",
        "                    if len(line_parts) == 2:\n",
        "                        review, sentiment = line_parts\n",
        "                        sample_data.append((review, sentiment))\n",
        "        break\n",
        "    except UnicodeDecodeError:\n",
        "        continue\n",
        "\n",
        "# Preprocessing the sample_data\n",
        "lemmatizer = WordNetLemmatizer()\n",
        "stop_words = set(stopwords.words('english'))\n",
        "processed_data = []\n",
        "labels = []\n",
        "\n",
        "for review, sentiment in sample_data:\n",
        "    tokens = word_tokenize(review.lower())\n",
        "    cleaned_tokens = [lemmatizer.lemmatize(token) for token in tokens if token.isalnum() and token not in stop_words]\n",
        "    processed_data.append(' '.join(cleaned_tokens))\n",
        "    labels.append(sentiment)\n",
        "\n",
        "# Vectorizing the text data\n",
        "vectorizer = TfidfVectorizer()\n",
        "X_vec = vectorizer.fit_transform(processed_data)\n",
        "\n",
        "# Training the classifier\n",
        "classifier = LinearSVC()\n",
        "classifier.fit(X_vec, labels)\n",
        "\n",
        "# Predicting the training data\n",
        "train_predictions = classifier.predict(X_vec)\n",
        "train_accuracy = accuracy_score(labels, train_predictions)\n",
        "print(\"Training Accuracy:\", train_accuracy)\n",
        "\n",
        "# User input\n",
        "user_review = input(\"Enter your review: \")\n",
        "\n",
        "# Preprocessing and vectorizing the user input\n",
        "user_processed = ' '.join([lemmatizer.lemmatize(token.lower()) for token in word_tokenize(user_review) if token.isalnum() and token not in stop_words])\n",
        "user_vec = vectorizer.transform([user_processed])\n",
        "\n",
        "# Making prediction on the user input\n",
        "prediction = classifier.predict(user_vec)[0]\n",
        "\n",
        "# Output the prediction\n",
        "print(\"Review sentiment:\", prediction)"
      ],
      "metadata": {
        "colab": {
          "base_uri": "https://localhost:8080/"
        },
        "id": "enk1NZj4VGrH",
        "outputId": "e0a2f2e0-d250-4f47-c248-757932412a0c"
      },
      "execution_count": null,
      "outputs": [
        {
          "output_type": "stream",
          "name": "stderr",
          "text": [
            "[nltk_data] Downloading package stopwords to /root/nltk_data...\n",
            "[nltk_data]   Package stopwords is already up-to-date!\n",
            "[nltk_data] Downloading package punkt to /root/nltk_data...\n",
            "[nltk_data]   Package punkt is already up-to-date!\n",
            "[nltk_data] Downloading package wordnet to /root/nltk_data...\n",
            "[nltk_data]   Package wordnet is already up-to-date!\n"
          ]
        },
        {
          "output_type": "stream",
          "name": "stdout",
          "text": [
            "Training Accuracy: 1.0\n",
            "Enter your review: It is good but too lengthy.\n",
            "Review sentiment: There is little memorable in the acting, but the cast does its best within the limitations imposed by a meagre story line and poor direction - it is in these latter areas that the failure arises.<br /><br />\",negative\n"
          ]
        }
      ]
    },
    {
      "cell_type": "code",
      "source": [
        "import nltk\n",
        "from nltk.corpus import stopwords\n",
        "from nltk.tokenize import word_tokenize\n",
        "from nltk.stem import WordNetLemmatizer\n",
        "from sklearn.feature_extraction.text import TfidfVectorizer\n",
        "from sklearn.svm import LinearSVC\n",
        "from sklearn.model_selection import train_test_split\n",
        "from sklearn.metrics import accuracy_score\n",
        "import pandas as pd\n",
        "# Downloading necessary NLTK resources\n",
        "nltk.download('stopwords')\n",
        "nltk.download('punkt')\n",
        "nltk.download('wordnet')\n",
        "# Reading the sample data from file\n",
        "sample_data_path ='IMDB Dataset.csv'\n",
        "sample_data = pd.read_csv(sample_data_path)\n",
        "sample_data = sample_data.sample(frac=1).reset_index(drop=True)  # Shuffle the data\n",
        "# Preprocessing the sample_data\n",
        "lemmatizer = WordNetLemmatizer()\n",
        "stop_words = set(stopwords.words('english'))\n",
        "processed_data = []\n",
        "labels = []\n",
        "for review, sentiment in zip(sample_data['review'], sample_data['sentiment']):\n",
        "    tokens = word_tokenize(review.lower())\n",
        "    cleaned_tokens = [lemmatizer.lemmatize(token) for token in tokens if token.isalnum() and token not in stop_words]\n",
        "    processed_data.append(' '.join(cleaned_tokens))\n",
        "    labels.append(sentiment)\n",
        "# Vectorizing the text data\n",
        "vectorizer = TfidfVectorizer()\n",
        "X_vec = vectorizer.fit_transform(processed_data)\n",
        "# Splitting the data into training and testing sets\n",
        "X_train, X_test, y_train, y_test = train_test_split(X_vec, labels, test_size=0.2, random_state=42)\n",
        "# Training the classifier\n",
        "classifier = LinearSVC()\n",
        "classifier.fit(X_train, y_train)\n",
        "# Predicting the training data\n",
        "train_predictions = classifier.predict(X_train)\n",
        "train_accuracy = accuracy_score(y_train, train_predictions)\n",
        "print(\"Training Accuracy:\", train_accuracy)\n",
        "# Evaluating the classifier on the testing data\n",
        "test_predictions = classifier.predict(X_test)\n",
        "test_accuracy = accuracy_score(y_test, test_predictions)\n",
        "print(\"Testing Accuracy:\", test_accuracy)\n",
        "# User input\n",
        "user_review = input(\"Enter your review: \")\n",
        "# Preprocessing and vectorizing the user input\n",
        "user_processed = ' '.join([lemmatizer.lemmatize(token.lower()) for token in word_tokenize(user_review) if token.isalnum() and token not in stop_words])\n",
        "user_vec = vectorizer.transform([user_processed])\n",
        "# Making prediction on the user input\n",
        "prediction = classifier.predict(user_vec)[0]\n",
        "# Output the prediction\n",
        "print(\"Review sentiment:\", prediction)"
      ],
      "metadata": {
        "colab": {
          "base_uri": "https://localhost:8080/"
        },
        "id": "vtZ1swCkb-nO",
        "outputId": "62347c31-fb58-4731-fb1a-96ad7907b6fc"
      },
      "execution_count": null,
      "outputs": [
        {
          "output_type": "stream",
          "name": "stderr",
          "text": [
            "[nltk_data] Downloading package stopwords to /root/nltk_data...\n",
            "[nltk_data]   Package stopwords is already up-to-date!\n",
            "[nltk_data] Downloading package punkt to /root/nltk_data...\n",
            "[nltk_data]   Package punkt is already up-to-date!\n",
            "[nltk_data] Downloading package wordnet to /root/nltk_data...\n",
            "[nltk_data]   Package wordnet is already up-to-date!\n"
          ]
        },
        {
          "output_type": "stream",
          "name": "stdout",
          "text": [
            "Training Accuracy: 0.9847\n",
            "Testing Accuracy: 0.8947\n",
            "Enter your review: the movie was not bad but a bit lengthy\n",
            "Review sentiment: negative\n"
          ]
        }
      ]
    }
  ]
}