{
  "nbformat": 4,
  "nbformat_minor": 0,
  "metadata": {
    "colab": {
      "provenance": [],
      "authorship_tag": "ABX9TyPpulpjSb64RBKVW6569cwZ",
      "include_colab_link": true
    },
    "kernelspec": {
      "name": "python3",
      "display_name": "Python 3"
    },
    "language_info": {
      "name": "python"
    }
  },
  "cells": [
    {
      "cell_type": "markdown",
      "metadata": {
        "id": "view-in-github",
        "colab_type": "text"
      },
      "source": [
        "<a href=\"https://colab.research.google.com/github/AsmithaBhavya06/Projects/blob/main/Single_player_game.ipynb\" target=\"_parent\"><img src=\"https://colab.research.google.com/assets/colab-badge.svg\" alt=\"Open In Colab\"/></a>"
      ]
    },
    {
      "cell_type": "code",
      "execution_count": null,
      "metadata": {
        "colab": {
          "base_uri": "https://localhost:8080/"
        },
        "id": "-3UemL16y-BW",
        "outputId": "ff553f49-a18f-47ba-a53a-a8e83977cdf3"
      },
      "outputs": [
        {
          "output_type": "stream",
          "name": "stdout",
          "text": [
            "Welcome to Guess the Number!\n",
            "I'm thinking of a number between 1 and 100.\n",
            "Take a guess: 50\n",
            "Too low, try again!\n",
            "Take a guess: 80\n",
            "Too low, try again!\n",
            "Take a guess: 90\n",
            "Too low, try again!\n",
            "Take a guess: 100\n",
            "Congratulations! You guessed the number 100 in 4 attempts!\n"
          ]
        }
      ],
      "source": [
        "import random\n",
        "print(\"Welcome to Guess the Number!\")\n",
        "print(\"I'm thinking of a number between 1 and 100.\")\n",
        "secret_number = random.randint(1, 100)\n",
        "attempts = 0\n",
        "while True:\n",
        "    try:\n",
        "        guess = int(input(\"Take a guess: \"))\n",
        "        attempts += 1\n",
        "        if guess < secret_number:\n",
        "            print(\"Too low, try again!\")\n",
        "        elif guess > secret_number:\n",
        "            print(\"Too high, try again!\")\n",
        "        else:\n",
        "            print(f\"Congratulations! You guessed the number {secret_number} in {attempts} attempts!\")\n",
        "            break\n",
        "    except ValueError:\n",
        "        print(\"Please enter a valid number.\")\n"
      ]
    }
  ]
}