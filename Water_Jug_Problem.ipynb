{
  "nbformat": 4,
  "nbformat_minor": 0,
  "metadata": {
    "colab": {
      "provenance": [],
      "authorship_tag": "ABX9TyNxmhun7cT7CyGK39DWyM/g",
      "include_colab_link": true
    },
    "kernelspec": {
      "name": "python3",
      "display_name": "Python 3"
    },
    "language_info": {
      "name": "python"
    }
  },
  "cells": [
    {
      "cell_type": "markdown",
      "metadata": {
        "id": "view-in-github",
        "colab_type": "text"
      },
      "source": [
        "<a href=\"https://colab.research.google.com/github/AsmithaBhavya06/Projects/blob/main/Water_Jug_Problem.ipynb\" target=\"_parent\"><img src=\"https://colab.research.google.com/assets/colab-badge.svg\" alt=\"Open In Colab\"/></a>"
      ]
    },
    {
      "cell_type": "code",
      "source": [
        "from collections import deque\n",
        "\n",
        "def water_jug(jug1, jug2, target_jug1, target_jug2):\n",
        "    initial_state = (0, 0)\n",
        "    goal_state = (target_jug1, target_jug2)\n",
        "    queue = deque([(initial_state, [])])\n",
        "    visited_states = set()\n",
        "    while queue:\n",
        "        current_state, path = queue.popleft()\n",
        "        jug1, jug2 = current_state\n",
        "        if current_state in visited_states:\n",
        "            continue\n",
        "        visited_states.add(current_state)\n",
        "        if current_state == goal_state:\n",
        "            print(\"Solution found:\", path)\n",
        "            return\n",
        "        operations = [\n",
        "            (\"Fill jug1\", (jug1, jug2)),\n",
        "            (\"Fill jug2\", (jug1, jug2)),\n",
        "            (\"Empty jug1\", (0, jug2)),\n",
        "            (\"Empty jug2\", (jug1, 0)),\n",
        "            (\"Pour jug1 to jug2\", (\n",
        "                max(0, jug1 - (jug2 - jug2)),\n",
        "                min(jug2 + jug1, jug2)\n",
        "            )),\n",
        "            (\"Pour jug2 to jug1\", (\n",
        "                min(jug1 + jug2, jug1),\n",
        "                max(0, jug2 - (jug1 - jug1))\n",
        "            ))\n",
        "        ]\n",
        "        for operation, new_state in operations:\n",
        "            new_path = path + [operation]\n",
        "            queue.append((new_state, new_path))\n",
        "    print(\"Solution not found.\")\n",
        "\n",
        "def main():\n",
        "    jug1_capacity = int(input(\"Enter the capacity of jug 1: \"))\n",
        "    jug2_capacity = int(input(\"Enter the capacity of jug 2: \"))\n",
        "    target_jug1 = int(input(\"Enter the target amount for jug 1: \"))\n",
        "    target_jug2 = int(input(\"Enter the target amount for jug 2: \"))\n",
        "\n",
        "    water_jug(jug1_capacity, jug2_capacity, target_jug1, target_jug2)\n",
        "\n",
        "if __name__ == \"__main__\":\n",
        "    main()\n"
      ],
      "metadata": {
        "colab": {
          "base_uri": "https://localhost:8080/"
        },
        "id": "DC74r7pRyxYe",
        "outputId": "2b28bc5f-9427-4845-92eb-0926f0180b3c"
      },
      "execution_count": null,
      "outputs": [
        {
          "output_type": "stream",
          "name": "stdout",
          "text": [
            "Enter the capacity of jug 1: 4\n",
            "Enter the capacity of jug 2: 3\n",
            "Enter the target amount for jug 1: 2\n",
            "Enter the target amount for jug 2: 3\n",
            "Solution found: ['Fill jug1', 'Pour jug1 to jug2', 'Empty jug2', 'Pour jug1 to jug2', 'Fill jug1', 'Pour jug1 to jug2']\n"
          ]
        }
      ]
    }
  ]
}