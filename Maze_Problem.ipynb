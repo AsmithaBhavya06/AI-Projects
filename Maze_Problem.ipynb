{
  "cells": [
    {
      "cell_type": "markdown",
      "metadata": {
        "id": "view-in-github",
        "colab_type": "text"
      },
      "source": [
        "<a href=\"https://colab.research.google.com/github/AsmithaBhavya06/Projects/blob/main/Maze_Problem.ipynb\" target=\"_parent\"><img src=\"https://colab.research.google.com/assets/colab-badge.svg\" alt=\"Open In Colab\"/></a>"
      ]
    },
    {
      "cell_type": "code",
      "source": [
        "import nltk\n",
        "from nltk.tokenize import word_tokenize\n",
        "from nltk.stem import WordNetLemmatizer\n",
        "from nltk.stem import PorterStemmer\n",
        "from nltk.corpus import stopwords\n",
        "nltk.download('punkt')\n",
        "nltk.download('wordnet')\n",
        "nltk.download('stopwords')"
      ],
      "metadata": {
        "colab": {
          "base_uri": "https://localhost:8080/"
        },
        "id": "ijb3NOxN4jwT",
        "outputId": "45140b21-ecef-4eaa-9904-b83fcf1d42dd"
      },
      "execution_count": null,
      "outputs": [
        {
          "output_type": "stream",
          "name": "stderr",
          "text": [
            "[nltk_data] Downloading package punkt to /root/nltk_data...\n",
            "[nltk_data]   Unzipping tokenizers/punkt.zip.\n",
            "[nltk_data] Downloading package wordnet to /root/nltk_data...\n",
            "[nltk_data] Downloading package stopwords to /root/nltk_data...\n",
            "[nltk_data]   Unzipping corpora/stopwords.zip.\n"
          ]
        },
        {
          "output_type": "execute_result",
          "data": {
            "text/plain": [
              "True"
            ]
          },
          "metadata": {},
          "execution_count": 1
        }
      ]
    },
    {
      "cell_type": "code",
      "source": [
        "text = input(\"Enter a sample text:\")\n",
        "tokens=word_tokenize(text)\n",
        "print(\"Tokens:\", tokens)\n",
        "lemmatizer = WordNetLemmatizer()\n",
        "lemmatized_tokens = [lemmatizer.lemmatize(token) for token in tokens]\n",
        "print(\"Lemmatized Tokens:\", lemmatized_tokens)\n",
        "stemmer = PorterStemmer()\n",
        "stemmed_tokens = [stemmer.stem(token) for token in tokens]\n",
        "print(\"Stemmed Tokens:\", stemmed_tokens)\n",
        "stop_words = set(stopwords.words('english'))\n",
        "filtered_tokens = [token for token in tokens if token.lower() not in stop_words]\n",
        "print(\"Filtered Tokens:\", filtered_tokens)"
      ],
      "metadata": {
        "colab": {
          "base_uri": "https://localhost:8080/"
        },
        "id": "k91wRird4oX0",
        "outputId": "a60be7cd-cfab-4581-e073-dc03bd2a6f6d"
      },
      "execution_count": null,
      "outputs": [
        {
          "output_type": "stream",
          "name": "stdout",
          "text": [
            "Enter a sample text:I am giving Artificial intelligence practical\n",
            "Tokens: ['I', 'am', 'giving', 'Artificial', 'intelligence', 'practical']\n",
            "Lemmatized Tokens: ['I', 'am', 'giving', 'Artificial', 'intelligence', 'practical']\n",
            "Stemmed Tokens: ['i', 'am', 'give', 'artifici', 'intellig', 'practic']\n",
            "Filtered Tokens: ['giving', 'Artificial', 'intelligence', 'practical']\n"
          ]
        }
      ]
    },
    {
      "cell_type": "code",
      "execution_count": null,
      "metadata": {
        "colab": {
          "base_uri": "https://localhost:8080/"
        },
        "id": "edvfjoH8QfH7",
        "outputId": "348a356c-d77d-47f5-dc4e-942e4c23dfe5"
      },
      "outputs": [
        {
          "name": "stdout",
          "output_type": "stream",
          "text": [
            "Enter the size of matrix:4\n",
            "Enter row1:1 0 1 0\n",
            "Enter row2:1 1 1 0\n",
            "Enter row3:0 1 1 1 \n",
            "Enter row4:0 0 1 1\n",
            "Possible paths to reach m[3,3]: [(0, 0), (1, 0), (1, 1), (2, 1), (2, 2), (3, 2), (3, 3)]\n"
          ]
        }
      ],
      "source": [
        "def solve_maze(maze, row, col, path):\n",
        "    if row < 0 or col < 0 or row >= len(maze) or col >= len(maze[0]) or maze[row][col] == 0:\n",
        "        return False\n",
        "    if row == len(maze) - 1 and col == len(maze[0]) - 1:\n",
        "        path.append((row, col))\n",
        "        return True\n",
        "    if solve_maze(maze, row + 1, col, path) or solve_maze(maze, row, col + 1, path):\n",
        "        path.append((row, col))\n",
        "        return True\n",
        "    return False\n",
        "n=int(input(\"Enter the size of matrix:\"))\n",
        "maze=[]\n",
        "for i in range(n):\n",
        "  row = list(map(int, input(f\"Enter row{i+1}:\").split()))\n",
        "  maze.append(row)\n",
        "path = []\n",
        "if solve_maze(maze, 0, 0, path):\n",
        "    path.reverse()\n",
        "    print(f\"Possible paths to reach m[3,3]: {path}\")\n",
        "else:\n",
        "    print(\"No solution found.\")"
      ]
    }
  ],
  "metadata": {
    "colab": {
      "provenance": [],
      "authorship_tag": "ABX9TyMWV5WJ/aq9A/VHSG0AYarZ",
      "include_colab_link": true
    },
    "kernelspec": {
      "display_name": "Python 3",
      "name": "python3"
    },
    "language_info": {
      "name": "python"
    }
  },
  "nbformat": 4,
  "nbformat_minor": 0
}